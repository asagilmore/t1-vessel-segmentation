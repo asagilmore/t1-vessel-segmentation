{
 "cells": [
  {
   "cell_type": "code",
   "execution_count": 1,
   "metadata": {},
   "outputs": [
    {
     "name": "stderr",
     "output_type": "stream",
     "text": [
      "/var/folders/gb/604kkgfn2cj2q1bp1zw3t56m0000gn/T/ipykernel_51864/2970306978.py:1: DeprecationWarning: numpy.core.multiarray is deprecated and has been renamed to numpy._core.multiarray. The numpy._core namespace contains private NumPy internals and its use is discouraged, as NumPy internals can change without warning in any release. In practice, most real-world usage of numpy.core is to access functionality in the public NumPy API. If that is the case, use the public NumPy API. If not, you are using NumPy internals. If you would still like to access an internal attribute, use numpy._core.multiarray.ndarray.\n",
      "  from analysis import analysis_functions\n"
     ]
    }
   ],
   "source": [
    "from analysis import analysis_functions\n",
    "import nibabel as nib\n",
    "import numpy as np\n",
    "import os\n",
    "from skimage.morphology import skeletonize\n",
    "from scipy.ndimage import convolve"
   ]
  },
  {
   "cell_type": "code",
   "execution_count": 2,
   "metadata": {},
   "outputs": [
    {
     "name": "stdout",
     "output_type": "stream",
     "text": [
      "IXI477.nii.gz\n"
     ]
    }
   ],
   "source": [
    "path = \"/Users/asagilmore/src/temp/xlstm_inferance/IXI-costa/true_labels_costa\"\n",
    "\n",
    "files = os.listdir(path)\n",
    "\n",
    "print(files[0])\n",
    "\n",
    "img = nib.load(os.path.join(path, files[0]))\n",
    "\n",
    "binary_map = img.get_fdata()\n",
    "\n",
    "skeleton = skeletonize(binary_map)"
   ]
  },
  {
   "cell_type": "code",
   "execution_count": 3,
   "metadata": {},
   "outputs": [],
   "source": [
    "# edge_array = analysis_functions._get_edge_array(binary_map)\n",
    "\n",
    "# nib.save(nib.Nifti1Image(edge_array.astype(float), img.affine), \"edge_array.nii.gz\")\n",
    "\n"
   ]
  },
  {
   "cell_type": "code",
   "execution_count": 4,
   "metadata": {},
   "outputs": [
    {
     "name": "stdout",
     "output_type": "stream",
     "text": [
      "8767 skeleton points\n"
     ]
    }
   ],
   "source": [
    "distance_map = analysis_functions.get_distance_map(binary_map, 50)\n"
   ]
  },
  {
   "cell_type": "code",
   "execution_count": 5,
   "metadata": {},
   "outputs": [
    {
     "name": "stdout",
     "output_type": "stream",
     "text": [
      "(1024, 1024, 92)\n",
      "Number of nonzero items: 8767\n",
      "Number of zero items: 96460225\n",
      "Number of nonzero items: 8767\n",
      "Number of zero items: 96460225\n",
      "Mean distance: 2.120242118835449\n",
      "Max distance: 10.797959327697754\n",
      "Min distance: 1.0\n"
     ]
    },
    {
     "data": {
      "image/png": "[encoded data removed]",
      "text/plain": [
       "<Figure size 640x480 with 1 Axes>"
      ]
     },
     "metadata": {},
     "output_type": "display_data"
    }
   ],
   "source": [
    "import matplotlib.pyplot as plt\n",
    "print(distance_map.shape)\n",
    "\n",
    "\n",
    "def print_zero_nonzero(array):\n",
    "    non_zero_count = np.count_nonzero(array)\n",
    "    total_count = array.size\n",
    "    zero_count = total_count - non_zero_count\n",
    "\n",
    "    print(f\"Number of nonzero items: {non_zero_count}\")\n",
    "    print(f\"Number of zero items: {zero_count}\")\n",
    "\n",
    "def get_nonzero_items(array):\n",
    "    return array[np.nonzero(array)]\n",
    "\n",
    "print_zero_nonzero(distance_map)\n",
    "print_zero_nonzero(skeleton)\n",
    "\n",
    "distances = get_nonzero_items(distance_map)\n",
    "\n",
    "print(f\"Mean distance: {np.mean(distances)}\")\n",
    "print(f\"Max distance: {np.max(distances)}\")\n",
    "print(f\"Min distance: {np.min(distances)}\")\n",
    "\n",
    "plt.hist(distances, bins=100)\n",
    "plt.show()\n"
   ]
  }
 ],
 "metadata": {
  "kernelspec": {
   "display_name": "t1-vessel",
   "language": "python",
   "name": "python3"
  },
  "language_info": {
   "codemirror_mode": {
    "name": "ipython",
    "version": 3
   },
   "file_extension": ".py",
   "mimetype": "text/x-python",
   "name": "python",
   "nbconvert_exporter": "python",
   "pygments_lexer": "ipython3",
   "version": "3.11.9"
  }
 },
 "nbformat": 4,
 "nbformat_minor": 2
}

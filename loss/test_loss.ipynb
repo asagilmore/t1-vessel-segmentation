{
 "cells": [
  {
   "cell_type": "code",
   "execution_count": 1,
   "metadata": {},
   "outputs": [],
   "source": [
    "from clDice import clDice\n",
    "from differentiable_skeletonize import Skeletonize\n",
    "import nibabel as nib\n",
    "import torch"
   ]
  },
  {
   "cell_type": "code",
   "execution_count": 2,
   "metadata": {},
   "outputs": [],
   "source": [
    "def get_matched_ids(dirs, split_char=\"-\"):\n",
    "    \"\"\"\n",
    "    returns a sorted set of all ids that exist in all given dirs\n",
    "    \"\"\"\n",
    "    files = [os.listdir(dir) for dir in dirs]\n",
    "    file_ids = [[file.split(split_char)[0] for file in file_list] for\n",
    "                file_list in files]\n",
    "    sets = [set(file_id) for file_id in file_ids]\n",
    "    matched = set.intersection(*sets)\n",
    "    return sorted(matched)\n",
    "\n",
    "\n",
    "def get_filepath_list_from_id(dir, id):\n",
    "    dir_files = os.listdir(dir)\n",
    "    out_paths = []\n",
    "    for file in dir_files:\n",
    "        if id in file:\n",
    "            out_paths.append(os.path.join(dir, file))\n",
    "    return out_paths\n",
    "\n",
    "def get_tensor_from_path(path):\n",
    "    img = nib.load(path)\n",
    "    tensor = torch.tensor(img.get_fdata())\n",
    "    return tensor\n",
    "\n",
    "def get_tensor_from_id(dir, id):\n",
    "    paths = get_filepath_list_from_id(dir, id)\n",
    "    if len(paths) != 1:\n",
    "        raise ValueError(\"More than one file found for id\")\n",
    "    tensor = get_tensor_from_path(paths[0])\n",
    "    return tensor"
   ]
  },
  {
   "cell_type": "code",
   "execution_count": 3,
   "metadata": {},
   "outputs": [
    {
     "name": "stdout",
     "output_type": "stream",
     "text": [
      "id IXI013.nii.gz\n"
     ]
    },
    {
     "ename": "RuntimeError",
     "evalue": "view size is not compatible with input tensor's size and stride (at least one dimension spans across two contiguous subspaces). Use .reshape(...) instead.",
     "output_type": "error",
     "traceback": [
      "\u001b[0;31m---------------------------------------------------------------------------\u001b[0m",
      "\u001b[0;31mRuntimeError\u001b[0m                              Traceback (most recent call last)",
      "Cell \u001b[0;32mIn[3], line 14\u001b[0m\n\u001b[1;32m     11\u001b[0m img_pred \u001b[38;5;241m=\u001b[39m get_tensor_from_id(pred_dir, matched_ids[\u001b[38;5;241m0\u001b[39m])\u001b[38;5;241m.\u001b[39munsqueeze(\u001b[38;5;241m0\u001b[39m)\u001b[38;5;241m.\u001b[39munsqueeze(\u001b[38;5;241m0\u001b[39m)\u001b[38;5;241m.\u001b[39mfloat()\n\u001b[1;32m     12\u001b[0m img_pred_other \u001b[38;5;241m=\u001b[39m  get_tensor_from_id(pred_dir, matched_ids[\u001b[38;5;241m1\u001b[39m])\u001b[38;5;241m.\u001b[39munsqueeze(\u001b[38;5;241m0\u001b[39m)\u001b[38;5;241m.\u001b[39munsqueeze(\u001b[38;5;241m0\u001b[39m)\u001b[38;5;241m.\u001b[39mfloat()\n\u001b[0;32m---> 14\u001b[0m loss_val \u001b[38;5;241m=\u001b[39m \u001b[43mloss\u001b[49m\u001b[43m(\u001b[49m\u001b[43mimg_true\u001b[49m\u001b[43m,\u001b[49m\u001b[43m \u001b[49m\u001b[43mimg_pred\u001b[49m\u001b[43m)\u001b[49m\n\u001b[1;32m     15\u001b[0m loss_val_other \u001b[38;5;241m=\u001b[39m loss(img_true, img_pred_other)\n\u001b[1;32m     17\u001b[0m \u001b[38;5;28mprint\u001b[39m(skel\u001b[38;5;241m.\u001b[39mshape)\n",
      "File \u001b[0;32m~/miniconda3/envs/niftitorch/lib/python3.11/site-packages/torch/nn/modules/module.py:1532\u001b[0m, in \u001b[0;36mModule._wrapped_call_impl\u001b[0;34m(self, *args, **kwargs)\u001b[0m\n\u001b[1;32m   1530\u001b[0m     \u001b[38;5;28;01mreturn\u001b[39;00m \u001b[38;5;28mself\u001b[39m\u001b[38;5;241m.\u001b[39m_compiled_call_impl(\u001b[38;5;241m*\u001b[39margs, \u001b[38;5;241m*\u001b[39m\u001b[38;5;241m*\u001b[39mkwargs)  \u001b[38;5;66;03m# type: ignore[misc]\u001b[39;00m\n\u001b[1;32m   1531\u001b[0m \u001b[38;5;28;01melse\u001b[39;00m:\n\u001b[0;32m-> 1532\u001b[0m     \u001b[38;5;28;01mreturn\u001b[39;00m \u001b[38;5;28;43mself\u001b[39;49m\u001b[38;5;241;43m.\u001b[39;49m\u001b[43m_call_impl\u001b[49m\u001b[43m(\u001b[49m\u001b[38;5;241;43m*\u001b[39;49m\u001b[43margs\u001b[49m\u001b[43m,\u001b[49m\u001b[43m \u001b[49m\u001b[38;5;241;43m*\u001b[39;49m\u001b[38;5;241;43m*\u001b[39;49m\u001b[43mkwargs\u001b[49m\u001b[43m)\u001b[49m\n",
      "File \u001b[0;32m~/miniconda3/envs/niftitorch/lib/python3.11/site-packages/torch/nn/modules/module.py:1541\u001b[0m, in \u001b[0;36mModule._call_impl\u001b[0;34m(self, *args, **kwargs)\u001b[0m\n\u001b[1;32m   1536\u001b[0m \u001b[38;5;66;03m# If we don't have any hooks, we want to skip the rest of the logic in\u001b[39;00m\n\u001b[1;32m   1537\u001b[0m \u001b[38;5;66;03m# this function, and just call forward.\u001b[39;00m\n\u001b[1;32m   1538\u001b[0m \u001b[38;5;28;01mif\u001b[39;00m \u001b[38;5;129;01mnot\u001b[39;00m (\u001b[38;5;28mself\u001b[39m\u001b[38;5;241m.\u001b[39m_backward_hooks \u001b[38;5;129;01mor\u001b[39;00m \u001b[38;5;28mself\u001b[39m\u001b[38;5;241m.\u001b[39m_backward_pre_hooks \u001b[38;5;129;01mor\u001b[39;00m \u001b[38;5;28mself\u001b[39m\u001b[38;5;241m.\u001b[39m_forward_hooks \u001b[38;5;129;01mor\u001b[39;00m \u001b[38;5;28mself\u001b[39m\u001b[38;5;241m.\u001b[39m_forward_pre_hooks\n\u001b[1;32m   1539\u001b[0m         \u001b[38;5;129;01mor\u001b[39;00m _global_backward_pre_hooks \u001b[38;5;129;01mor\u001b[39;00m _global_backward_hooks\n\u001b[1;32m   1540\u001b[0m         \u001b[38;5;129;01mor\u001b[39;00m _global_forward_hooks \u001b[38;5;129;01mor\u001b[39;00m _global_forward_pre_hooks):\n\u001b[0;32m-> 1541\u001b[0m     \u001b[38;5;28;01mreturn\u001b[39;00m \u001b[43mforward_call\u001b[49m\u001b[43m(\u001b[49m\u001b[38;5;241;43m*\u001b[39;49m\u001b[43margs\u001b[49m\u001b[43m,\u001b[49m\u001b[43m \u001b[49m\u001b[38;5;241;43m*\u001b[39;49m\u001b[38;5;241;43m*\u001b[39;49m\u001b[43mkwargs\u001b[49m\u001b[43m)\u001b[49m\n\u001b[1;32m   1543\u001b[0m \u001b[38;5;28;01mtry\u001b[39;00m:\n\u001b[1;32m   1544\u001b[0m     result \u001b[38;5;241m=\u001b[39m \u001b[38;5;28;01mNone\u001b[39;00m\n",
      "File \u001b[0;32m~/src/t1-vessel-segmentation/loss/clDice.py:102\u001b[0m, in \u001b[0;36mclDice.forward\u001b[0;34m(self, pred, target)\u001b[0m\n\u001b[1;32m    100\u001b[0m cl_pred \u001b[38;5;241m=\u001b[39m \u001b[38;5;28mself\u001b[39m\u001b[38;5;241m.\u001b[39mskeletonize(pred)\n\u001b[1;32m    101\u001b[0m target_skeleton \u001b[38;5;241m=\u001b[39m \u001b[38;5;28mself\u001b[39m\u001b[38;5;241m.\u001b[39mskeletonize(target)\n\u001b[0;32m--> 102\u001b[0m iflat \u001b[38;5;241m=\u001b[39m \u001b[43mnorm_intersection\u001b[49m\u001b[43m(\u001b[49m\u001b[43mcl_pred\u001b[49m\u001b[43m,\u001b[49m\u001b[43m \u001b[49m\u001b[43mtarget\u001b[49m\u001b[43m)\u001b[49m\n\u001b[1;32m    103\u001b[0m tflat \u001b[38;5;241m=\u001b[39m norm_intersection(target_skeleton, pred)\n\u001b[1;32m    104\u001b[0m intersection \u001b[38;5;241m=\u001b[39m iflat \u001b[38;5;241m*\u001b[39m tflat\n",
      "File \u001b[0;32m~/src/t1-vessel-segmentation/loss/clDice.py:70\u001b[0m, in \u001b[0;36mnorm_intersection\u001b[0;34m(center_line, vessel)\u001b[0m\n\u001b[1;32m     64\u001b[0m \u001b[38;5;250m\u001b[39m\u001b[38;5;124;03m'''\u001b[39;00m\n\u001b[1;32m     65\u001b[0m \u001b[38;5;124;03minputs shape  (batch, channel, depth, height, width)\u001b[39;00m\n\u001b[1;32m     66\u001b[0m \u001b[38;5;124;03mintersection formalized by first ares\u001b[39;00m\n\u001b[1;32m     67\u001b[0m \u001b[38;5;124;03mx - suppose to be centerline of vessel (pred or gt) and y - is vessel (pred or gt)\u001b[39;00m\n\u001b[1;32m     68\u001b[0m \u001b[38;5;124;03m'''\u001b[39;00m\n\u001b[1;32m     69\u001b[0m smooth \u001b[38;5;241m=\u001b[39m \u001b[38;5;241m1.\u001b[39m\n\u001b[0;32m---> 70\u001b[0m clf \u001b[38;5;241m=\u001b[39m \u001b[43mcenter_line\u001b[49m\u001b[38;5;241;43m.\u001b[39;49m\u001b[43mview\u001b[49m\u001b[43m(\u001b[49m\u001b[38;5;241;43m*\u001b[39;49m\u001b[43mcenter_line\u001b[49m\u001b[38;5;241;43m.\u001b[39;49m\u001b[43mshape\u001b[49m\u001b[43m[\u001b[49m\u001b[43m:\u001b[49m\u001b[38;5;241;43m2\u001b[39;49m\u001b[43m]\u001b[49m\u001b[43m,\u001b[49m\u001b[43m \u001b[49m\u001b[38;5;241;43m-\u001b[39;49m\u001b[38;5;241;43m1\u001b[39;49m\u001b[43m)\u001b[49m\n\u001b[1;32m     71\u001b[0m vf \u001b[38;5;241m=\u001b[39m vessel\u001b[38;5;241m.\u001b[39mview(\u001b[38;5;241m*\u001b[39mvessel\u001b[38;5;241m.\u001b[39mshape[:\u001b[38;5;241m2\u001b[39m], \u001b[38;5;241m-\u001b[39m\u001b[38;5;241m1\u001b[39m)\n\u001b[1;32m     72\u001b[0m intersection \u001b[38;5;241m=\u001b[39m (clf \u001b[38;5;241m*\u001b[39m vf)\u001b[38;5;241m.\u001b[39msum(\u001b[38;5;241m-\u001b[39m\u001b[38;5;241m1\u001b[39m)\n",
      "\u001b[0;31mRuntimeError\u001b[0m: view size is not compatible with input tensor's size and stride (at least one dimension spans across two contiguous subspaces). Use .reshape(...) instead."
     ]
    }
   ],
   "source": [
    "loss = clDice()\n",
    "skeletonize = Skeletonize()\n",
    "true_dir = \"/Users/asagilmore/src/temp/xlstm_inferance/IXI-costa/true_labels_costa\"\n",
    "\n",
    "pred_dir  = \"/Users/asagilmore/src/temp/xlstm_inferance/IXI-costa/xlstm_costa\"\n",
    "\n",
    "matched_ids = get_matched_ids([true_dir, pred_dir])\n",
    "\n",
    "print(f'id {matched_ids[0]}')\n",
    "img_true = get_tensor_from_id(true_dir, matched_ids[0]).unsqueeze(0).unsqueeze(0).float()\n",
    "img_pred = get_tensor_from_id(pred_dir, matched_ids[0]).unsqueeze(0).unsqueeze(0).float()\n",
    "img_pred_other =  get_tensor_from_id(pred_dir, matched_ids[1]).unsqueeze(0).unsqueeze(0).float()\n",
    "\n",
    "loss_val = loss(img_true, img_pred)\n",
    "loss_val_other = loss(img_true, img_pred_other)\n",
    "\n",
    "print(skel.shape)\n"
   ]
  },
  {
   "cell_type": "code",
   "execution_count": null,
   "metadata": {},
   "outputs": [],
   "source": [
    "print(f'loss {loss_val}')\n",
    "print(f'loss other {loss_val_other}')"
   ]
  }
 ],
 "metadata": {
  "kernelspec": {
   "display_name": "niftitorch",
   "language": "python",
   "name": "python3"
  },
  "language_info": {
   "codemirror_mode": {
    "name": "ipython",
    "version": 3
   },
   "file_extension": ".py",
   "mimetype": "text/x-python",
   "name": "python",
   "nbconvert_exporter": "python",
   "pygments_lexer": "ipython3",
   "version": "3.11.9"
  }
 },
 "nbformat": 4,
 "nbformat_minor": 2
}
